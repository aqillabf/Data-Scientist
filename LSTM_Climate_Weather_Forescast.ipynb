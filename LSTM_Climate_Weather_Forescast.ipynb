{
  "cells": [
    {
      "cell_type": "markdown",
      "metadata": {
        "id": "view-in-github",
        "colab_type": "text"
      },
      "source": [
        "<a href=\"https://colab.research.google.com/github/aqillabf/Data-Scientist/blob/main/LSTM_Climate_Weather_Forescast.ipynb\" target=\"_parent\"><img src=\"https://colab.research.google.com/assets/colab-badge.svg\" alt=\"Open In Colab\"/></a>"
      ]
    },
    {
      "cell_type": "code",
      "execution_count": null,
      "id": "eea50beb-df9c-4f27-b837-0f72bb9670b3",
      "metadata": {
        "id": "eea50beb-df9c-4f27-b837-0f72bb9670b3"
      },
      "outputs": [],
      "source": [
        "import pandas as pd\n",
        "import numpy as np\n",
        "import yfinance as yf\n",
        "import tensorflow as tf\n",
        "from tensorflow.keras.preprocessing.sequence import TimeseriesGenerator\n",
        "from sklearn.preprocessing import StandardScaler, MinMaxScaler\n",
        "from sklearn.model_selection import cross_val_score, cross_validate, StratifiedKFold, GridSearchCV, train_test_split\n",
        "from sklearn.pipeline import Pipeline, make_pipeline\n",
        "from sklearn.compose import ColumnTransformer\n",
        "from tensorflow.keras.optimizers.schedules import PolynomialDecay\n",
        "from tensorflow.keras.callbacks import ReduceLROnPlateau, EarlyStopping\n",
        "import seaborn as sns\n",
        "import matplotlib.pyplot as plt\n",
        "from sklearn.metrics import r2_score, mean_squared_error"
      ]
    },
    {
      "cell_type": "markdown",
      "id": "c9be5c9e-0056-40ff-b4e5-11f2629bd111",
      "metadata": {
        "id": "c9be5c9e-0056-40ff-b4e5-11f2629bd111"
      },
      "source": [
        "## Load Data and Pre Process"
      ]
    },
    {
      "cell_type": "code",
      "execution_count": null,
      "id": "2349ab0c-f533-41e5-8742-277e3ce0b284",
      "metadata": {
        "id": "2349ab0c-f533-41e5-8742-277e3ce0b284",
        "outputId": "a86deda7-ead2-4838-80d2-e8e3998cc7d0"
      },
      "outputs": [
        {
          "data": {
            "text/html": [
              "<div>\n",
              "<style scoped>\n",
              "    .dataframe tbody tr th:only-of-type {\n",
              "        vertical-align: middle;\n",
              "    }\n",
              "\n",
              "    .dataframe tbody tr th {\n",
              "        vertical-align: top;\n",
              "    }\n",
              "\n",
              "    .dataframe thead th {\n",
              "        text-align: right;\n",
              "    }\n",
              "</style>\n",
              "<table border=\"1\" class=\"dataframe\">\n",
              "  <thead>\n",
              "    <tr style=\"text-align: right;\">\n",
              "      <th></th>\n",
              "      <th>Date Time</th>\n",
              "      <th>p (mbar)</th>\n",
              "      <th>T (degC)</th>\n",
              "      <th>Tpot (K)</th>\n",
              "      <th>Tdew (degC)</th>\n",
              "      <th>rh (%)</th>\n",
              "      <th>VPmax (mbar)</th>\n",
              "      <th>VPact (mbar)</th>\n",
              "      <th>VPdef (mbar)</th>\n",
              "      <th>sh (g/kg)</th>\n",
              "      <th>H2OC (mmol/mol)</th>\n",
              "      <th>rho (g/m**3)</th>\n",
              "      <th>wv (m/s)</th>\n",
              "      <th>max. wv (m/s)</th>\n",
              "      <th>wd (deg)</th>\n",
              "    </tr>\n",
              "  </thead>\n",
              "  <tbody>\n",
              "    <tr>\n",
              "      <th>0</th>\n",
              "      <td>01.01.2009 00:10:00</td>\n",
              "      <td>996.52</td>\n",
              "      <td>-8.02</td>\n",
              "      <td>265.40</td>\n",
              "      <td>-8.90</td>\n",
              "      <td>93.3</td>\n",
              "      <td>3.33</td>\n",
              "      <td>3.11</td>\n",
              "      <td>0.22</td>\n",
              "      <td>1.94</td>\n",
              "      <td>3.12</td>\n",
              "      <td>1307.75</td>\n",
              "      <td>1.03</td>\n",
              "      <td>1.75</td>\n",
              "      <td>152.3</td>\n",
              "    </tr>\n",
              "    <tr>\n",
              "      <th>1</th>\n",
              "      <td>01.01.2009 00:20:00</td>\n",
              "      <td>996.57</td>\n",
              "      <td>-8.41</td>\n",
              "      <td>265.01</td>\n",
              "      <td>-9.28</td>\n",
              "      <td>93.4</td>\n",
              "      <td>3.23</td>\n",
              "      <td>3.02</td>\n",
              "      <td>0.21</td>\n",
              "      <td>1.89</td>\n",
              "      <td>3.03</td>\n",
              "      <td>1309.80</td>\n",
              "      <td>0.72</td>\n",
              "      <td>1.50</td>\n",
              "      <td>136.1</td>\n",
              "    </tr>\n",
              "    <tr>\n",
              "      <th>2</th>\n",
              "      <td>01.01.2009 00:30:00</td>\n",
              "      <td>996.53</td>\n",
              "      <td>-8.51</td>\n",
              "      <td>264.91</td>\n",
              "      <td>-9.31</td>\n",
              "      <td>93.9</td>\n",
              "      <td>3.21</td>\n",
              "      <td>3.01</td>\n",
              "      <td>0.20</td>\n",
              "      <td>1.88</td>\n",
              "      <td>3.02</td>\n",
              "      <td>1310.24</td>\n",
              "      <td>0.19</td>\n",
              "      <td>0.63</td>\n",
              "      <td>171.6</td>\n",
              "    </tr>\n",
              "    <tr>\n",
              "      <th>3</th>\n",
              "      <td>01.01.2009 00:40:00</td>\n",
              "      <td>996.51</td>\n",
              "      <td>-8.31</td>\n",
              "      <td>265.12</td>\n",
              "      <td>-9.07</td>\n",
              "      <td>94.2</td>\n",
              "      <td>3.26</td>\n",
              "      <td>3.07</td>\n",
              "      <td>0.19</td>\n",
              "      <td>1.92</td>\n",
              "      <td>3.08</td>\n",
              "      <td>1309.19</td>\n",
              "      <td>0.34</td>\n",
              "      <td>0.50</td>\n",
              "      <td>198.0</td>\n",
              "    </tr>\n",
              "    <tr>\n",
              "      <th>4</th>\n",
              "      <td>01.01.2009 00:50:00</td>\n",
              "      <td>996.51</td>\n",
              "      <td>-8.27</td>\n",
              "      <td>265.15</td>\n",
              "      <td>-9.04</td>\n",
              "      <td>94.1</td>\n",
              "      <td>3.27</td>\n",
              "      <td>3.08</td>\n",
              "      <td>0.19</td>\n",
              "      <td>1.92</td>\n",
              "      <td>3.09</td>\n",
              "      <td>1309.00</td>\n",
              "      <td>0.32</td>\n",
              "      <td>0.63</td>\n",
              "      <td>214.3</td>\n",
              "    </tr>\n",
              "  </tbody>\n",
              "</table>\n",
              "</div>"
            ],
            "text/plain": [
              "             Date Time  p (mbar)  T (degC)  Tpot (K)  Tdew (degC)  rh (%)  \\\n",
              "0  01.01.2009 00:10:00    996.52     -8.02    265.40        -8.90    93.3   \n",
              "1  01.01.2009 00:20:00    996.57     -8.41    265.01        -9.28    93.4   \n",
              "2  01.01.2009 00:30:00    996.53     -8.51    264.91        -9.31    93.9   \n",
              "3  01.01.2009 00:40:00    996.51     -8.31    265.12        -9.07    94.2   \n",
              "4  01.01.2009 00:50:00    996.51     -8.27    265.15        -9.04    94.1   \n",
              "\n",
              "   VPmax (mbar)  VPact (mbar)  VPdef (mbar)  sh (g/kg)  H2OC (mmol/mol)  \\\n",
              "0          3.33          3.11          0.22       1.94             3.12   \n",
              "1          3.23          3.02          0.21       1.89             3.03   \n",
              "2          3.21          3.01          0.20       1.88             3.02   \n",
              "3          3.26          3.07          0.19       1.92             3.08   \n",
              "4          3.27          3.08          0.19       1.92             3.09   \n",
              "\n",
              "   rho (g/m**3)  wv (m/s)  max. wv (m/s)  wd (deg)  \n",
              "0       1307.75      1.03           1.75     152.3  \n",
              "1       1309.80      0.72           1.50     136.1  \n",
              "2       1310.24      0.19           0.63     171.6  \n",
              "3       1309.19      0.34           0.50     198.0  \n",
              "4       1309.00      0.32           0.63     214.3  "
            ]
          },
          "execution_count": 18,
          "metadata": {},
          "output_type": "execute_result"
        }
      ],
      "source": [
        "df = pd.read_csv('jena_climate_2009_2016.csv')\n",
        "df.head()"
      ]
    },
    {
      "cell_type": "code",
      "execution_count": null,
      "id": "29fb6169-a526-4c7c-afb9-06a27daf5965",
      "metadata": {
        "id": "29fb6169-a526-4c7c-afb9-06a27daf5965",
        "outputId": "a3893724-ce4d-4688-ebf7-fb3f57d3f3dc"
      },
      "outputs": [
        {
          "data": {
            "text/html": [
              "<div>\n",
              "<style scoped>\n",
              "    .dataframe tbody tr th:only-of-type {\n",
              "        vertical-align: middle;\n",
              "    }\n",
              "\n",
              "    .dataframe tbody tr th {\n",
              "        vertical-align: top;\n",
              "    }\n",
              "\n",
              "    .dataframe thead th {\n",
              "        text-align: right;\n",
              "    }\n",
              "</style>\n",
              "<table border=\"1\" class=\"dataframe\">\n",
              "  <thead>\n",
              "    <tr style=\"text-align: right;\">\n",
              "      <th></th>\n",
              "      <th>Date Time</th>\n",
              "      <th>p (mbar)</th>\n",
              "      <th>T (degC)</th>\n",
              "      <th>rh (%)</th>\n",
              "      <th>VPmax (mbar)</th>\n",
              "      <th>VPact (mbar)</th>\n",
              "      <th>VPdef (mbar)</th>\n",
              "      <th>sh (g/kg)</th>\n",
              "      <th>H2OC (mmol/mol)</th>\n",
              "      <th>rho (g/m**3)</th>\n",
              "      <th>wv (m/s)</th>\n",
              "      <th>max. wv (m/s)</th>\n",
              "      <th>wd (deg)</th>\n",
              "    </tr>\n",
              "  </thead>\n",
              "  <tbody>\n",
              "    <tr>\n",
              "      <th>0</th>\n",
              "      <td>2009-01-01 01:00:00</td>\n",
              "      <td>996.50</td>\n",
              "      <td>-8.05</td>\n",
              "      <td>94.4</td>\n",
              "      <td>3.33</td>\n",
              "      <td>3.14</td>\n",
              "      <td>0.19</td>\n",
              "      <td>1.96</td>\n",
              "      <td>3.15</td>\n",
              "      <td>1307.86</td>\n",
              "      <td>0.21</td>\n",
              "      <td>0.63</td>\n",
              "      <td>192.7</td>\n",
              "    </tr>\n",
              "    <tr>\n",
              "      <th>1</th>\n",
              "      <td>2009-01-01 02:00:00</td>\n",
              "      <td>996.62</td>\n",
              "      <td>-8.88</td>\n",
              "      <td>93.2</td>\n",
              "      <td>3.12</td>\n",
              "      <td>2.90</td>\n",
              "      <td>0.21</td>\n",
              "      <td>1.81</td>\n",
              "      <td>2.91</td>\n",
              "      <td>1312.25</td>\n",
              "      <td>0.25</td>\n",
              "      <td>0.63</td>\n",
              "      <td>190.3</td>\n",
              "    </tr>\n",
              "    <tr>\n",
              "      <th>2</th>\n",
              "      <td>2009-01-01 03:00:00</td>\n",
              "      <td>996.84</td>\n",
              "      <td>-8.81</td>\n",
              "      <td>93.5</td>\n",
              "      <td>3.13</td>\n",
              "      <td>2.93</td>\n",
              "      <td>0.20</td>\n",
              "      <td>1.83</td>\n",
              "      <td>2.94</td>\n",
              "      <td>1312.18</td>\n",
              "      <td>0.18</td>\n",
              "      <td>0.63</td>\n",
              "      <td>167.2</td>\n",
              "    </tr>\n",
              "    <tr>\n",
              "      <th>3</th>\n",
              "      <td>2009-01-01 04:00:00</td>\n",
              "      <td>996.99</td>\n",
              "      <td>-9.05</td>\n",
              "      <td>92.6</td>\n",
              "      <td>3.07</td>\n",
              "      <td>2.85</td>\n",
              "      <td>0.23</td>\n",
              "      <td>1.78</td>\n",
              "      <td>2.85</td>\n",
              "      <td>1313.61</td>\n",
              "      <td>0.10</td>\n",
              "      <td>0.38</td>\n",
              "      <td>240.0</td>\n",
              "    </tr>\n",
              "    <tr>\n",
              "      <th>4</th>\n",
              "      <td>2009-01-01 05:00:00</td>\n",
              "      <td>997.46</td>\n",
              "      <td>-9.63</td>\n",
              "      <td>92.2</td>\n",
              "      <td>2.94</td>\n",
              "      <td>2.71</td>\n",
              "      <td>0.23</td>\n",
              "      <td>1.69</td>\n",
              "      <td>2.71</td>\n",
              "      <td>1317.19</td>\n",
              "      <td>0.40</td>\n",
              "      <td>0.88</td>\n",
              "      <td>157.0</td>\n",
              "    </tr>\n",
              "  </tbody>\n",
              "</table>\n",
              "</div>"
            ],
            "text/plain": [
              "            Date Time  p (mbar)  T (degC)  rh (%)  VPmax (mbar)  VPact (mbar)  \\\n",
              "0 2009-01-01 01:00:00    996.50     -8.05    94.4          3.33          3.14   \n",
              "1 2009-01-01 02:00:00    996.62     -8.88    93.2          3.12          2.90   \n",
              "2 2009-01-01 03:00:00    996.84     -8.81    93.5          3.13          2.93   \n",
              "3 2009-01-01 04:00:00    996.99     -9.05    92.6          3.07          2.85   \n",
              "4 2009-01-01 05:00:00    997.46     -9.63    92.2          2.94          2.71   \n",
              "\n",
              "   VPdef (mbar)  sh (g/kg)  H2OC (mmol/mol)  rho (g/m**3)  wv (m/s)  \\\n",
              "0          0.19       1.96             3.15       1307.86      0.21   \n",
              "1          0.21       1.81             2.91       1312.25      0.25   \n",
              "2          0.20       1.83             2.94       1312.18      0.18   \n",
              "3          0.23       1.78             2.85       1313.61      0.10   \n",
              "4          0.23       1.69             2.71       1317.19      0.40   \n",
              "\n",
              "   max. wv (m/s)  wd (deg)  \n",
              "0           0.63     192.7  \n",
              "1           0.63     190.3  \n",
              "2           0.63     167.2  \n",
              "3           0.38     240.0  \n",
              "4           0.88     157.0  "
            ]
          },
          "execution_count": 24,
          "metadata": {},
          "output_type": "execute_result"
        }
      ],
      "source": [
        "df['Date Time'] = pd.to_datetime(df['Date Time'], dayfirst='dayfirst')\n",
        "#Ubah menjadi hourly dan buang kolom yang tidak diperlukan\n",
        "df = df[df['Date Time'].dt.minute==0].reset_index(drop=True).drop(columns=['Tpot (K)', 'Tdew (degC)'])\n",
        "df.head()"
      ]
    },
    {
      "cell_type": "code",
      "execution_count": null,
      "id": "427e8d3e-91d8-4a27-8345-abe40b9e34d6",
      "metadata": {
        "id": "427e8d3e-91d8-4a27-8345-abe40b9e34d6",
        "outputId": "36b6af21-7b41-47f0-9178-3ec3aa1d5108"
      },
      "outputs": [
        {
          "data": {
            "text/html": [
              "<div>\n",
              "<style scoped>\n",
              "    .dataframe tbody tr th:only-of-type {\n",
              "        vertical-align: middle;\n",
              "    }\n",
              "\n",
              "    .dataframe tbody tr th {\n",
              "        vertical-align: top;\n",
              "    }\n",
              "\n",
              "    .dataframe thead th {\n",
              "        text-align: right;\n",
              "    }\n",
              "</style>\n",
              "<table border=\"1\" class=\"dataframe\">\n",
              "  <thead>\n",
              "    <tr style=\"text-align: right;\">\n",
              "      <th></th>\n",
              "      <th>Date Time</th>\n",
              "      <th>p (mbar)</th>\n",
              "      <th>T (degC)</th>\n",
              "      <th>rh (%)</th>\n",
              "      <th>VPmax (mbar)</th>\n",
              "      <th>VPact (mbar)</th>\n",
              "      <th>VPdef (mbar)</th>\n",
              "      <th>sh (g/kg)</th>\n",
              "      <th>H2OC (mmol/mol)</th>\n",
              "      <th>rho (g/m**3)</th>\n",
              "      <th>wv (m/s)</th>\n",
              "      <th>max. wv (m/s)</th>\n",
              "      <th>wd (deg)</th>\n",
              "    </tr>\n",
              "  </thead>\n",
              "  <tbody>\n",
              "    <tr>\n",
              "      <th>70087</th>\n",
              "      <td>2016-12-31 20:00:00</td>\n",
              "      <td>1001.47</td>\n",
              "      <td>-1.52</td>\n",
              "      <td>65.42</td>\n",
              "      <td>5.46</td>\n",
              "      <td>3.57</td>\n",
              "      <td>1.89</td>\n",
              "      <td>2.22</td>\n",
              "      <td>3.57</td>\n",
              "      <td>1282.60</td>\n",
              "      <td>1.24</td>\n",
              "      <td>1.96</td>\n",
              "      <td>232.00</td>\n",
              "    </tr>\n",
              "    <tr>\n",
              "      <th>70088</th>\n",
              "      <td>2016-12-31 21:00:00</td>\n",
              "      <td>1001.29</td>\n",
              "      <td>-3.09</td>\n",
              "      <td>73.70</td>\n",
              "      <td>4.86</td>\n",
              "      <td>3.58</td>\n",
              "      <td>1.28</td>\n",
              "      <td>2.23</td>\n",
              "      <td>3.58</td>\n",
              "      <td>1289.78</td>\n",
              "      <td>0.61</td>\n",
              "      <td>1.48</td>\n",
              "      <td>207.50</td>\n",
              "    </tr>\n",
              "    <tr>\n",
              "      <th>70089</th>\n",
              "      <td>2016-12-31 22:00:00</td>\n",
              "      <td>1000.70</td>\n",
              "      <td>-2.59</td>\n",
              "      <td>71.30</td>\n",
              "      <td>5.04</td>\n",
              "      <td>3.60</td>\n",
              "      <td>1.45</td>\n",
              "      <td>2.24</td>\n",
              "      <td>3.59</td>\n",
              "      <td>1286.67</td>\n",
              "      <td>0.38</td>\n",
              "      <td>0.72</td>\n",
              "      <td>8.15</td>\n",
              "    </tr>\n",
              "    <tr>\n",
              "      <th>70090</th>\n",
              "      <td>2016-12-31 23:00:00</td>\n",
              "      <td>1000.21</td>\n",
              "      <td>-3.76</td>\n",
              "      <td>72.50</td>\n",
              "      <td>4.62</td>\n",
              "      <td>3.35</td>\n",
              "      <td>1.27</td>\n",
              "      <td>2.09</td>\n",
              "      <td>3.35</td>\n",
              "      <td>1291.71</td>\n",
              "      <td>0.89</td>\n",
              "      <td>1.30</td>\n",
              "      <td>223.70</td>\n",
              "    </tr>\n",
              "    <tr>\n",
              "      <th>70091</th>\n",
              "      <td>2017-01-01 00:00:00</td>\n",
              "      <td>999.82</td>\n",
              "      <td>-4.82</td>\n",
              "      <td>75.70</td>\n",
              "      <td>4.27</td>\n",
              "      <td>3.23</td>\n",
              "      <td>1.04</td>\n",
              "      <td>2.01</td>\n",
              "      <td>3.23</td>\n",
              "      <td>1296.38</td>\n",
              "      <td>1.23</td>\n",
              "      <td>1.96</td>\n",
              "      <td>184.90</td>\n",
              "    </tr>\n",
              "  </tbody>\n",
              "</table>\n",
              "</div>"
            ],
            "text/plain": [
              "                Date Time  p (mbar)  T (degC)  rh (%)  VPmax (mbar)  \\\n",
              "70087 2016-12-31 20:00:00   1001.47     -1.52   65.42          5.46   \n",
              "70088 2016-12-31 21:00:00   1001.29     -3.09   73.70          4.86   \n",
              "70089 2016-12-31 22:00:00   1000.70     -2.59   71.30          5.04   \n",
              "70090 2016-12-31 23:00:00   1000.21     -3.76   72.50          4.62   \n",
              "70091 2017-01-01 00:00:00    999.82     -4.82   75.70          4.27   \n",
              "\n",
              "       VPact (mbar)  VPdef (mbar)  sh (g/kg)  H2OC (mmol/mol)  rho (g/m**3)  \\\n",
              "70087          3.57          1.89       2.22             3.57       1282.60   \n",
              "70088          3.58          1.28       2.23             3.58       1289.78   \n",
              "70089          3.60          1.45       2.24             3.59       1286.67   \n",
              "70090          3.35          1.27       2.09             3.35       1291.71   \n",
              "70091          3.23          1.04       2.01             3.23       1296.38   \n",
              "\n",
              "       wv (m/s)  max. wv (m/s)  wd (deg)  \n",
              "70087      1.24           1.96    232.00  \n",
              "70088      0.61           1.48    207.50  \n",
              "70089      0.38           0.72      8.15  \n",
              "70090      0.89           1.30    223.70  \n",
              "70091      1.23           1.96    184.90  "
            ]
          },
          "execution_count": 26,
          "metadata": {},
          "output_type": "execute_result"
        }
      ],
      "source": [
        "df.tail()"
      ]
    },
    {
      "cell_type": "code",
      "execution_count": null,
      "id": "da07edd3-dab6-4070-9bb3-d3b9cad8e52f",
      "metadata": {
        "id": "da07edd3-dab6-4070-9bb3-d3b9cad8e52f",
        "outputId": "7603aa43-e4db-401a-a764-de28755a52cf"
      },
      "outputs": [
        {
          "name": "stdout",
          "output_type": "stream",
          "text": [
            "<class 'pandas.core.frame.DataFrame'>\n",
            "RangeIndex: 70092 entries, 0 to 70091\n",
            "Data columns (total 13 columns):\n",
            " #   Column           Non-Null Count  Dtype         \n",
            "---  ------           --------------  -----         \n",
            " 0   Date Time        70092 non-null  datetime64[ns]\n",
            " 1   p (mbar)         70092 non-null  float64       \n",
            " 2   T (degC)         70092 non-null  float64       \n",
            " 3   rh (%)           70092 non-null  float64       \n",
            " 4   VPmax (mbar)     70092 non-null  float64       \n",
            " 5   VPact (mbar)     70092 non-null  float64       \n",
            " 6   VPdef (mbar)     70092 non-null  float64       \n",
            " 7   sh (g/kg)        70092 non-null  float64       \n",
            " 8   H2OC (mmol/mol)  70092 non-null  float64       \n",
            " 9   rho (g/m**3)     70092 non-null  float64       \n",
            " 10  wv (m/s)         70092 non-null  float64       \n",
            " 11  max. wv (m/s)    70092 non-null  float64       \n",
            " 12  wd (deg)         70092 non-null  float64       \n",
            "dtypes: datetime64[ns](1), float64(12)\n",
            "memory usage: 7.0 MB\n"
          ]
        }
      ],
      "source": [
        "df.info()"
      ]
    },
    {
      "cell_type": "code",
      "execution_count": null,
      "id": "59c7bbe3-2449-4c8b-96e4-1e0d174e294c",
      "metadata": {
        "id": "59c7bbe3-2449-4c8b-96e4-1e0d174e294c",
        "outputId": "7b07c928-c116-4fee-cadc-adf486b47898"
      },
      "outputs": [
        {
          "name": "stdout",
          "output_type": "stream",
          "text": [
            "(53619, 12) (9463, 12) (7010, 12)\n",
            "(53619,) (9463,) (7010,)\n"
          ]
        }
      ],
      "source": [
        "#Memprediksi Temperature\n",
        "input_= df[[i for i in df.columns if i not in ['Date Time']]]\n",
        "target = df['T (degC)'].to_numpy()\n",
        "\n",
        "#Memastikan data timeseries tidak ter shuffle\n",
        "X, X_test, y, y_test = train_test_split(input_, target, test_size=0.1, shuffle=False, random_state=2024)\n",
        "X_train, X_val, y_train, y_val = train_test_split(X, y, test_size=0.15, shuffle=False, random_state=2024)\n",
        "\n",
        "print(X_train.shape, X_val.shape, X_test.shape)\n",
        "print(y_train.shape, y_val.shape, y_test.shape)"
      ]
    },
    {
      "cell_type": "code",
      "execution_count": null,
      "id": "cf2a97c8-860e-4fb1-a073-472cc3b87c6b",
      "metadata": {
        "id": "cf2a97c8-860e-4fb1-a073-472cc3b87c6b"
      },
      "outputs": [],
      "source": [
        "#Proses Scaling Data\n",
        "preprocessing = ColumnTransformer([\n",
        "    ('Pipe',make_pipeline(StandardScaler()), list(input_.columns))\n",
        "     ])\n",
        "\n",
        "X_train_scaled = preprocessing.fit_transform(X_train)\n",
        "X_val_scaled = preprocessing.transform(X_val)\n",
        "X_test_scaled = preprocessing.transform(X_test)"
      ]
    },
    {
      "cell_type": "code",
      "execution_count": null,
      "id": "e1d95406-622c-448c-834b-c6ed10d631d3",
      "metadata": {
        "id": "e1d95406-622c-448c-834b-c6ed10d631d3"
      },
      "outputs": [],
      "source": [
        "#Membuat prediksi temperatur 1 jam berikutnya dalam 24 jam (window = 24)\n",
        "window_len = 24\n",
        "batch_size = 16\n",
        "train_gen = TimeseriesGenerator(data=X_train_scaled, targets=y_train, length=window_len, shuffle=False, batch_size=batch_size)\n",
        "val_gen = TimeseriesGenerator(data=X_val_scaled, targets=y_val, length=window_len, shuffle=False, batch_size=batch_size)\n",
        "test_gen = TimeseriesGenerator(data=X_test_scaled, targets=y_test, length=window_len, shuffle=False, batch_size=batch_size)"
      ]
    },
    {
      "cell_type": "markdown",
      "id": "d196fbd2-9e6a-43ba-a031-1c65cbc3ad4d",
      "metadata": {
        "id": "d196fbd2-9e6a-43ba-a031-1c65cbc3ad4d"
      },
      "source": [
        "## Pemodelan"
      ]
    },
    {
      "cell_type": "code",
      "execution_count": null,
      "id": "4189ad01-3f7e-48a3-a20d-da1cbe4b5ddb",
      "metadata": {
        "id": "4189ad01-3f7e-48a3-a20d-da1cbe4b5ddb",
        "outputId": "86800742-0703-4895-cfef-75608683b432"
      },
      "outputs": [
        {
          "name": "stderr",
          "output_type": "stream",
          "text": [
            "C:\\Users\\A C E R\\anaconda3\\Lib\\site-packages\\keras\\src\\layers\\rnn\\rnn.py:204: UserWarning: Do not pass an `input_shape`/`input_dim` argument to a layer. When using Sequential models, prefer using an `Input(shape)` object as the first layer in the model instead.\n",
            "  super().__init__(**kwargs)\n"
          ]
        }
      ],
      "source": [
        "model = tf.keras.Sequential()\n",
        "model.add(tf.keras.layers.LSTM(256, input_shape=(window_len, len(input_.columns)), return_sequences = True))\n",
        "model.add(tf.keras.layers.ReLU())\n",
        "model.add(tf.keras.layers.LSTM(128, return_sequences=True))\n",
        "model.add(tf.keras.layers.ReLU())\n",
        "model.add(tf.keras.layers.LSTM(64, return_sequences=False))\n",
        "model.add(tf.keras.layers.Dense(1))\n",
        "\n",
        "#Learning rate model scheduler\n",
        "num_epochs = 30\n",
        "num_train_steps = len(train_gen) * num_epochs\n",
        "lr_scheduler = PolynomialDecay(initial_learning_rate=1e-3, end_learning_rate=0.0, decay_steps=num_train_steps)\n",
        "\n",
        "model.compile(loss=tf.losses.MeanSquaredError(),\n",
        "              optimizer=tf.optimizers.Adam(learning_rate=lr_scheduler),\n",
        "              metrics=[tf.metrics.RootMeanSquaredError()])"
      ]
    },
    {
      "cell_type": "code",
      "execution_count": null,
      "id": "ff393353-cc03-44e0-85a3-053425896aee",
      "metadata": {
        "id": "ff393353-cc03-44e0-85a3-053425896aee",
        "outputId": "45646a14-2385-4d40-c59c-baf4afa0d0fa"
      },
      "outputs": [
        {
          "data": {
            "text/html": [
              "<pre style=\"white-space:pre;overflow-x:auto;line-height:normal;font-family:Menlo,'DejaVu Sans Mono',consolas,'Courier New',monospace\"><span style=\"font-weight: bold\">Model: \"sequential\"</span>\n",
              "</pre>\n"
            ],
            "text/plain": [
              "\u001b[1mModel: \"sequential\"\u001b[0m\n"
            ]
          },
          "metadata": {},
          "output_type": "display_data"
        },
        {
          "data": {
            "text/html": [
              "<pre style=\"white-space:pre;overflow-x:auto;line-height:normal;font-family:Menlo,'DejaVu Sans Mono',consolas,'Courier New',monospace\">┏━━━━━━━━━━━━━━━━━━━━━━━━━━━━━━━━━━━━━━┳━━━━━━━━━━━━━━━━━━━━━━━━━━━━━┳━━━━━━━━━━━━━━━━━┓\n",
              "┃<span style=\"font-weight: bold\"> Layer (type)                         </span>┃<span style=\"font-weight: bold\"> Output Shape                </span>┃<span style=\"font-weight: bold\">         Param # </span>┃\n",
              "┡━━━━━━━━━━━━━━━━━━━━━━━━━━━━━━━━━━━━━━╇━━━━━━━━━━━━━━━━━━━━━━━━━━━━━╇━━━━━━━━━━━━━━━━━┩\n",
              "│ lstm (<span style=\"color: #0087ff; text-decoration-color: #0087ff\">LSTM</span>)                          │ (<span style=\"color: #00d7ff; text-decoration-color: #00d7ff\">None</span>, <span style=\"color: #00af00; text-decoration-color: #00af00\">24</span>, <span style=\"color: #00af00; text-decoration-color: #00af00\">256</span>)             │         <span style=\"color: #00af00; text-decoration-color: #00af00\">275,456</span> │\n",
              "├──────────────────────────────────────┼─────────────────────────────┼─────────────────┤\n",
              "│ re_lu (<span style=\"color: #0087ff; text-decoration-color: #0087ff\">ReLU</span>)                         │ (<span style=\"color: #00d7ff; text-decoration-color: #00d7ff\">None</span>, <span style=\"color: #00af00; text-decoration-color: #00af00\">24</span>, <span style=\"color: #00af00; text-decoration-color: #00af00\">256</span>)             │               <span style=\"color: #00af00; text-decoration-color: #00af00\">0</span> │\n",
              "├──────────────────────────────────────┼─────────────────────────────┼─────────────────┤\n",
              "│ lstm_1 (<span style=\"color: #0087ff; text-decoration-color: #0087ff\">LSTM</span>)                        │ (<span style=\"color: #00d7ff; text-decoration-color: #00d7ff\">None</span>, <span style=\"color: #00af00; text-decoration-color: #00af00\">24</span>, <span style=\"color: #00af00; text-decoration-color: #00af00\">128</span>)             │         <span style=\"color: #00af00; text-decoration-color: #00af00\">197,120</span> │\n",
              "├──────────────────────────────────────┼─────────────────────────────┼─────────────────┤\n",
              "│ re_lu_1 (<span style=\"color: #0087ff; text-decoration-color: #0087ff\">ReLU</span>)                       │ (<span style=\"color: #00d7ff; text-decoration-color: #00d7ff\">None</span>, <span style=\"color: #00af00; text-decoration-color: #00af00\">24</span>, <span style=\"color: #00af00; text-decoration-color: #00af00\">128</span>)             │               <span style=\"color: #00af00; text-decoration-color: #00af00\">0</span> │\n",
              "├──────────────────────────────────────┼─────────────────────────────┼─────────────────┤\n",
              "│ lstm_2 (<span style=\"color: #0087ff; text-decoration-color: #0087ff\">LSTM</span>)                        │ (<span style=\"color: #00d7ff; text-decoration-color: #00d7ff\">None</span>, <span style=\"color: #00af00; text-decoration-color: #00af00\">64</span>)                  │          <span style=\"color: #00af00; text-decoration-color: #00af00\">49,408</span> │\n",
              "├──────────────────────────────────────┼─────────────────────────────┼─────────────────┤\n",
              "│ dense (<span style=\"color: #0087ff; text-decoration-color: #0087ff\">Dense</span>)                        │ (<span style=\"color: #00d7ff; text-decoration-color: #00d7ff\">None</span>, <span style=\"color: #00af00; text-decoration-color: #00af00\">1</span>)                   │              <span style=\"color: #00af00; text-decoration-color: #00af00\">65</span> │\n",
              "└──────────────────────────────────────┴─────────────────────────────┴─────────────────┘\n",
              "</pre>\n"
            ],
            "text/plain": [
              "┏━━━━━━━━━━━━━━━━━━━━━━━━━━━━━━━━━━━━━━┳━━━━━━━━━━━━━━━━━━━━━━━━━━━━━┳━━━━━━━━━━━━━━━━━┓\n",
              "┃\u001b[1m \u001b[0m\u001b[1mLayer (type)                        \u001b[0m\u001b[1m \u001b[0m┃\u001b[1m \u001b[0m\u001b[1mOutput Shape               \u001b[0m\u001b[1m \u001b[0m┃\u001b[1m \u001b[0m\u001b[1m        Param #\u001b[0m\u001b[1m \u001b[0m┃\n",
              "┡━━━━━━━━━━━━━━━━━━━━━━━━━━━━━━━━━━━━━━╇━━━━━━━━━━━━━━━━━━━━━━━━━━━━━╇━━━━━━━━━━━━━━━━━┩\n",
              "│ lstm (\u001b[38;5;33mLSTM\u001b[0m)                          │ (\u001b[38;5;45mNone\u001b[0m, \u001b[38;5;34m24\u001b[0m, \u001b[38;5;34m256\u001b[0m)             │         \u001b[38;5;34m275,456\u001b[0m │\n",
              "├──────────────────────────────────────┼─────────────────────────────┼─────────────────┤\n",
              "│ re_lu (\u001b[38;5;33mReLU\u001b[0m)                         │ (\u001b[38;5;45mNone\u001b[0m, \u001b[38;5;34m24\u001b[0m, \u001b[38;5;34m256\u001b[0m)             │               \u001b[38;5;34m0\u001b[0m │\n",
              "├──────────────────────────────────────┼─────────────────────────────┼─────────────────┤\n",
              "│ lstm_1 (\u001b[38;5;33mLSTM\u001b[0m)                        │ (\u001b[38;5;45mNone\u001b[0m, \u001b[38;5;34m24\u001b[0m, \u001b[38;5;34m128\u001b[0m)             │         \u001b[38;5;34m197,120\u001b[0m │\n",
              "├──────────────────────────────────────┼─────────────────────────────┼─────────────────┤\n",
              "│ re_lu_1 (\u001b[38;5;33mReLU\u001b[0m)                       │ (\u001b[38;5;45mNone\u001b[0m, \u001b[38;5;34m24\u001b[0m, \u001b[38;5;34m128\u001b[0m)             │               \u001b[38;5;34m0\u001b[0m │\n",
              "├──────────────────────────────────────┼─────────────────────────────┼─────────────────┤\n",
              "│ lstm_2 (\u001b[38;5;33mLSTM\u001b[0m)                        │ (\u001b[38;5;45mNone\u001b[0m, \u001b[38;5;34m64\u001b[0m)                  │          \u001b[38;5;34m49,408\u001b[0m │\n",
              "├──────────────────────────────────────┼─────────────────────────────┼─────────────────┤\n",
              "│ dense (\u001b[38;5;33mDense\u001b[0m)                        │ (\u001b[38;5;45mNone\u001b[0m, \u001b[38;5;34m1\u001b[0m)                   │              \u001b[38;5;34m65\u001b[0m │\n",
              "└──────────────────────────────────────┴─────────────────────────────┴─────────────────┘\n"
            ]
          },
          "metadata": {},
          "output_type": "display_data"
        },
        {
          "data": {
            "text/html": [
              "<pre style=\"white-space:pre;overflow-x:auto;line-height:normal;font-family:Menlo,'DejaVu Sans Mono',consolas,'Courier New',monospace\"><span style=\"font-weight: bold\"> Total params: </span><span style=\"color: #00af00; text-decoration-color: #00af00\">522,049</span> (1.99 MB)\n",
              "</pre>\n"
            ],
            "text/plain": [
              "\u001b[1m Total params: \u001b[0m\u001b[38;5;34m522,049\u001b[0m (1.99 MB)\n"
            ]
          },
          "metadata": {},
          "output_type": "display_data"
        },
        {
          "data": {
            "text/html": [
              "<pre style=\"white-space:pre;overflow-x:auto;line-height:normal;font-family:Menlo,'DejaVu Sans Mono',consolas,'Courier New',monospace\"><span style=\"font-weight: bold\"> Trainable params: </span><span style=\"color: #00af00; text-decoration-color: #00af00\">522,049</span> (1.99 MB)\n",
              "</pre>\n"
            ],
            "text/plain": [
              "\u001b[1m Trainable params: \u001b[0m\u001b[38;5;34m522,049\u001b[0m (1.99 MB)\n"
            ]
          },
          "metadata": {},
          "output_type": "display_data"
        },
        {
          "data": {
            "text/html": [
              "<pre style=\"white-space:pre;overflow-x:auto;line-height:normal;font-family:Menlo,'DejaVu Sans Mono',consolas,'Courier New',monospace\"><span style=\"font-weight: bold\"> Non-trainable params: </span><span style=\"color: #00af00; text-decoration-color: #00af00\">0</span> (0.00 B)\n",
              "</pre>\n"
            ],
            "text/plain": [
              "\u001b[1m Non-trainable params: \u001b[0m\u001b[38;5;34m0\u001b[0m (0.00 B)\n"
            ]
          },
          "metadata": {},
          "output_type": "display_data"
        }
      ],
      "source": [
        "model.summary()"
      ]
    },
    {
      "cell_type": "code",
      "execution_count": null,
      "id": "21443689-2df8-4d6b-bbb0-1ad0ca91034f",
      "metadata": {
        "id": "21443689-2df8-4d6b-bbb0-1ad0ca91034f",
        "outputId": "7ab71729-8a23-4a4f-b47f-6504df76c69a"
      },
      "outputs": [
        {
          "name": "stdout",
          "output_type": "stream",
          "text": [
            "Epoch 1/30\n"
          ]
        },
        {
          "name": "stderr",
          "output_type": "stream",
          "text": [
            "C:\\Users\\A C E R\\anaconda3\\Lib\\site-packages\\keras\\src\\trainers\\data_adapters\\py_dataset_adapter.py:121: UserWarning: Your `PyDataset` class should call `super().__init__(**kwargs)` in its constructor. `**kwargs` can include `workers`, `use_multiprocessing`, `max_queue_size`. Do not pass these arguments to `fit()`, as they will be ignored.\n",
            "  self._warn_if_super_not_called()\n"
          ]
        },
        {
          "name": "stdout",
          "output_type": "stream",
          "text": [
            "\u001b[1m3350/3350\u001b[0m \u001b[32m━━━━━━━━━━━━━━━━━━━━\u001b[0m\u001b[37m\u001b[0m \u001b[1m176s\u001b[0m 51ms/step - loss: 32.5789 - root_mean_squared_error: 5.6973 - val_loss: 63.0673 - val_root_mean_squared_error: 7.9415\n",
            "Epoch 2/30\n",
            "\u001b[1m3350/3350\u001b[0m \u001b[32m━━━━━━━━━━━━━━━━━━━━\u001b[0m\u001b[37m\u001b[0m \u001b[1m137s\u001b[0m 41ms/step - loss: 18.4759 - root_mean_squared_error: 4.2680 - val_loss: 24.2614 - val_root_mean_squared_error: 4.9256\n",
            "Epoch 3/30\n",
            "\u001b[1m3350/3350\u001b[0m \u001b[32m━━━━━━━━━━━━━━━━━━━━\u001b[0m\u001b[37m\u001b[0m \u001b[1m132s\u001b[0m 39ms/step - loss: 9.9583 - root_mean_squared_error: 3.0909 - val_loss: 2.2330 - val_root_mean_squared_error: 1.4943\n",
            "Epoch 4/30\n",
            "\u001b[1m3350/3350\u001b[0m \u001b[32m━━━━━━━━━━━━━━━━━━━━\u001b[0m\u001b[37m\u001b[0m \u001b[1m138s\u001b[0m 41ms/step - loss: 3.4296 - root_mean_squared_error: 1.7829 - val_loss: 1.6287 - val_root_mean_squared_error: 1.2762\n",
            "Epoch 5/30\n",
            "\u001b[1m3350/3350\u001b[0m \u001b[32m━━━━━━━━━━━━━━━━━━━━\u001b[0m\u001b[37m\u001b[0m \u001b[1m157s\u001b[0m 47ms/step - loss: 1.7798 - root_mean_squared_error: 1.2835 - val_loss: 1.0472 - val_root_mean_squared_error: 1.0233\n",
            "Epoch 6/30\n",
            "\u001b[1m3350/3350\u001b[0m \u001b[32m━━━━━━━━━━━━━━━━━━━━\u001b[0m\u001b[37m\u001b[0m \u001b[1m139s\u001b[0m 41ms/step - loss: 1.2768 - root_mean_squared_error: 1.1096 - val_loss: 0.8880 - val_root_mean_squared_error: 0.9424\n",
            "Epoch 7/30\n",
            "\u001b[1m3350/3350\u001b[0m \u001b[32m━━━━━━━━━━━━━━━━━━━━\u001b[0m\u001b[37m\u001b[0m \u001b[1m157s\u001b[0m 47ms/step - loss: 1.0038 - root_mean_squared_error: 0.9911 - val_loss: 0.8587 - val_root_mean_squared_error: 0.9266\n",
            "Epoch 8/30\n",
            "\u001b[1m3350/3350\u001b[0m \u001b[32m━━━━━━━━━━━━━━━━━━━━\u001b[0m\u001b[37m\u001b[0m \u001b[1m143s\u001b[0m 43ms/step - loss: 0.8470 - root_mean_squared_error: 0.9131 - val_loss: 0.8786 - val_root_mean_squared_error: 0.9373\n",
            "Epoch 9/30\n",
            "\u001b[1m3350/3350\u001b[0m \u001b[32m━━━━━━━━━━━━━━━━━━━━\u001b[0m\u001b[37m\u001b[0m \u001b[1m155s\u001b[0m 46ms/step - loss: 0.7562 - root_mean_squared_error: 0.8653 - val_loss: 0.8003 - val_root_mean_squared_error: 0.8946\n",
            "Epoch 10/30\n",
            "\u001b[1m3350/3350\u001b[0m \u001b[32m━━━━━━━━━━━━━━━━━━━━\u001b[0m\u001b[37m\u001b[0m \u001b[1m151s\u001b[0m 45ms/step - loss: 0.6900 - root_mean_squared_error: 0.8282 - val_loss: 0.7919 - val_root_mean_squared_error: 0.8899\n",
            "Epoch 11/30\n",
            "\u001b[1m3350/3350\u001b[0m \u001b[32m━━━━━━━━━━━━━━━━━━━━\u001b[0m\u001b[37m\u001b[0m \u001b[1m174s\u001b[0m 52ms/step - loss: 0.6654 - root_mean_squared_error: 0.8138 - val_loss: 0.7394 - val_root_mean_squared_error: 0.8599\n",
            "Epoch 12/30\n",
            "\u001b[1m3350/3350\u001b[0m \u001b[32m━━━━━━━━━━━━━━━━━━━━\u001b[0m\u001b[37m\u001b[0m \u001b[1m176s\u001b[0m 53ms/step - loss: 0.6327 - root_mean_squared_error: 0.7945 - val_loss: 0.7883 - val_root_mean_squared_error: 0.8879\n",
            "Epoch 13/30\n",
            "\u001b[1m3350/3350\u001b[0m \u001b[32m━━━━━━━━━━━━━━━━━━━━\u001b[0m\u001b[37m\u001b[0m \u001b[1m145s\u001b[0m 43ms/step - loss: 0.6012 - root_mean_squared_error: 0.7747 - val_loss: 0.7931 - val_root_mean_squared_error: 0.8905\n",
            "Epoch 14/30\n",
            "\u001b[1m3350/3350\u001b[0m \u001b[32m━━━━━━━━━━━━━━━━━━━━\u001b[0m\u001b[37m\u001b[0m \u001b[1m143s\u001b[0m 43ms/step - loss: 0.5814 - root_mean_squared_error: 0.7619 - val_loss: 0.7600 - val_root_mean_squared_error: 0.8718\n"
          ]
        },
        {
          "data": {
            "text/plain": [
              "<keras.src.callbacks.history.History at 0x1a61d2677d0>"
            ]
          },
          "execution_count": 40,
          "metadata": {},
          "output_type": "execute_result"
        }
      ],
      "source": [
        "early_stopping = EarlyStopping(monitor='val_loss', patience=3, restore_best_weights=True, verbose=0)\n",
        "\n",
        "model.fit(\n",
        "    x=train_gen,\n",
        "    validation_data=val_gen,\n",
        "    shuffle=False,\n",
        "    callbacks=[early_stopping],\n",
        "    batch_size=batch_size,\n",
        "    epochs=num_epochs\n",
        ")"
      ]
    },
    {
      "cell_type": "code",
      "execution_count": null,
      "id": "a21d098e-79f4-44a6-a9ce-032f35eed003",
      "metadata": {
        "id": "a21d098e-79f4-44a6-a9ce-032f35eed003",
        "outputId": "9ee88828-793a-4b65-e4c7-b8957bcc68f0"
      },
      "outputs": [
        {
          "name": "stderr",
          "output_type": "stream",
          "text": [
            "WARNING:absl:You are saving your model as an HDF5 file via `model.save()` or `keras.saving.save_model(model)`. This file format is considered legacy. We recommend using instead the native Keras format, e.g. `model.save('my_model.keras')` or `keras.saving.save_model(model, 'my_model.keras')`. \n",
            "WARNING:absl:Compiled the loaded model, but the compiled metrics have yet to be built. `model.compile_metrics` will be empty until you train or evaluate the model.\n"
          ]
        }
      ],
      "source": [
        "#save model\n",
        "model.save('lstm_temperature_new.h5')\n",
        "#load model\n",
        "new_model = tf.keras.models.load_model('lstm_temperature_new.h5')"
      ]
    },
    {
      "cell_type": "markdown",
      "id": "a5a92ae3-3dae-4545-9f9e-ed42a2e4687f",
      "metadata": {
        "id": "a5a92ae3-3dae-4545-9f9e-ed42a2e4687f"
      },
      "source": [
        "## Predict"
      ]
    },
    {
      "cell_type": "code",
      "execution_count": null,
      "id": "70d5f06a-6abb-451c-a567-f916acaa6948",
      "metadata": {
        "id": "70d5f06a-6abb-451c-a567-f916acaa6948",
        "outputId": "537bdec9-5607-4f71-9689-1b7c4595fbc8"
      },
      "outputs": [
        {
          "name": "stderr",
          "output_type": "stream",
          "text": [
            "C:\\Users\\A C E R\\anaconda3\\Lib\\site-packages\\keras\\src\\trainers\\data_adapters\\py_dataset_adapter.py:121: UserWarning: Your `PyDataset` class should call `super().__init__(**kwargs)` in its constructor. `**kwargs` can include `workers`, `use_multiprocessing`, `max_queue_size`. Do not pass these arguments to `fit()`, as they will be ignored.\n",
            "  self._warn_if_super_not_called()\n"
          ]
        },
        {
          "name": "stdout",
          "output_type": "stream",
          "text": [
            "\u001b[1m437/437\u001b[0m \u001b[32m━━━━━━━━━━━━━━━━━━━━\u001b[0m\u001b[37m\u001b[0m \u001b[1m5s\u001b[0m 10ms/step\n"
          ]
        }
      ],
      "source": [
        "pred = new_model.predict(test_gen).flatten()"
      ]
    },
    {
      "cell_type": "code",
      "execution_count": null,
      "id": "01ac9d4a-56b0-4cd0-aa08-a54d9ee85b83",
      "metadata": {
        "id": "01ac9d4a-56b0-4cd0-aa08-a54d9ee85b83",
        "outputId": "f06d7ce9-24d2-44d4-ebf0-8b330f928241"
      },
      "outputs": [
        {
          "data": {
            "text/html": [
              "<div>\n",
              "<style scoped>\n",
              "    .dataframe tbody tr th:only-of-type {\n",
              "        vertical-align: middle;\n",
              "    }\n",
              "\n",
              "    .dataframe tbody tr th {\n",
              "        vertical-align: top;\n",
              "    }\n",
              "\n",
              "    .dataframe thead th {\n",
              "        text-align: right;\n",
              "    }\n",
              "</style>\n",
              "<table border=\"1\" class=\"dataframe\">\n",
              "  <thead>\n",
              "    <tr style=\"text-align: right;\">\n",
              "      <th></th>\n",
              "      <th>Date Time</th>\n",
              "      <th>Temperature</th>\n",
              "      <th>Prediction</th>\n",
              "    </tr>\n",
              "  </thead>\n",
              "  <tbody>\n",
              "    <tr>\n",
              "      <th>63106</th>\n",
              "      <td>2016-03-12 21:00:00</td>\n",
              "      <td>0.87</td>\n",
              "      <td>1.340102</td>\n",
              "    </tr>\n",
              "    <tr>\n",
              "      <th>63107</th>\n",
              "      <td>2016-03-12 22:00:00</td>\n",
              "      <td>0.88</td>\n",
              "      <td>1.256055</td>\n",
              "    </tr>\n",
              "    <tr>\n",
              "      <th>63108</th>\n",
              "      <td>2016-03-12 23:00:00</td>\n",
              "      <td>0.93</td>\n",
              "      <td>1.335225</td>\n",
              "    </tr>\n",
              "    <tr>\n",
              "      <th>63109</th>\n",
              "      <td>2016-03-13 00:00:00</td>\n",
              "      <td>1.07</td>\n",
              "      <td>1.384252</td>\n",
              "    </tr>\n",
              "    <tr>\n",
              "      <th>63110</th>\n",
              "      <td>2016-03-13 01:00:00</td>\n",
              "      <td>1.07</td>\n",
              "      <td>1.532366</td>\n",
              "    </tr>\n",
              "  </tbody>\n",
              "</table>\n",
              "</div>"
            ],
            "text/plain": [
              "                Date Time  Temperature  Prediction\n",
              "63106 2016-03-12 21:00:00         0.87    1.340102\n",
              "63107 2016-03-12 22:00:00         0.88    1.256055\n",
              "63108 2016-03-12 23:00:00         0.93    1.335225\n",
              "63109 2016-03-13 00:00:00         1.07    1.384252\n",
              "63110 2016-03-13 01:00:00         1.07    1.532366"
            ]
          },
          "execution_count": 46,
          "metadata": {},
          "output_type": "execute_result"
        }
      ],
      "source": [
        "df_result = X_test[window_len:].copy()\n",
        "df_result['pred'] = pred\n",
        "df_result['Date Time'] = df['Date Time'][X_test.index[0]:].copy()\n",
        "df_result = df_result[['Date Time', 'T (degC)', 'pred']].set_axis(['Date Time', 'Temperature', 'Prediction'], axis=1)\n",
        "df_result.head()"
      ]
    },
    {
      "cell_type": "code",
      "execution_count": null,
      "id": "2cdfa957-ef19-4f41-97c5-c57f43d39980",
      "metadata": {
        "id": "2cdfa957-ef19-4f41-97c5-c57f43d39980",
        "outputId": "d237fa64-9ba5-4333-e102-17253875187d"
      },
      "outputs": [
        {
          "name": "stdout",
          "output_type": "stream",
          "text": [
            "<class 'pandas.core.frame.DataFrame'>\n",
            "Index: 6986 entries, 63106 to 70091\n",
            "Data columns (total 3 columns):\n",
            " #   Column       Non-Null Count  Dtype         \n",
            "---  ------       --------------  -----         \n",
            " 0   Date Time    6986 non-null   datetime64[ns]\n",
            " 1   Temperature  6986 non-null   float64       \n",
            " 2   Prediction   6986 non-null   float32       \n",
            "dtypes: datetime64[ns](1), float32(1), float64(1)\n",
            "memory usage: 191.0 KB\n"
          ]
        }
      ],
      "source": [
        "df_result.info()"
      ]
    },
    {
      "cell_type": "code",
      "execution_count": null,
      "id": "d62efbb2-08a6-442f-99dd-e41f15769be7",
      "metadata": {
        "id": "d62efbb2-08a6-442f-99dd-e41f15769be7",
        "outputId": "dc26d709-2841-42fa-fb46-b9d22a17a656"
      },
      "outputs": [
        {
          "data": {
            "image/png": "[encoded data removed]",
            "text/plain": [
              "<Figure size 2000x500 with 1 Axes>"
            ]
          },
          "metadata": {},
          "output_type": "display_data"
        }
      ],
      "source": [
        "fig = plt.figure(figsize=(20,5))\n",
        "sns.lineplot(data=df_result[-480:], x='Date Time', y='Temperature', label='Temperature', color='red')\n",
        "sns.lineplot(data=df_result[-480:], x='Date Time', y='Prediction', label='Prediction', color='green')\n",
        "plt.title('Temperature (Actual vs Prediction)', size=20)\n",
        "plt.legend()\n",
        "plt.show()"
      ]
    },
    {
      "cell_type": "code",
      "execution_count": null,
      "id": "1838c774-3ee8-4fe4-a96f-39f8b466a6df",
      "metadata": {
        "id": "1838c774-3ee8-4fe4-a96f-39f8b466a6df",
        "outputId": "c48c3cb2-516f-4a80-8b2e-9df470a23c34"
      },
      "outputs": [
        {
          "name": "stdout",
          "output_type": "stream",
          "text": [
            "R2 : 0.9898525571208001\n",
            "RMSE : 0.7895823758488592\n"
          ]
        },
        {
          "name": "stderr",
          "output_type": "stream",
          "text": [
            "C:\\Users\\A C E R\\anaconda3\\Lib\\site-packages\\sklearn\\metrics\\_regression.py:483: FutureWarning: 'squared' is deprecated in version 1.4 and will be removed in 1.6. To calculate the root mean squared error, use the function'root_mean_squared_error'.\n",
            "  warnings.warn(\n"
          ]
        }
      ],
      "source": [
        "print('R2 :', r2_score(y_true=df_result['Temperature'], y_pred=df_result['Prediction']))\n",
        "print('RMSE :', mean_squared_error(y_true=df_result['Temperature'], y_pred=df_result['Prediction'], squared=False))"
      ]
    },
    {
      "cell_type": "code",
      "execution_count": null,
      "id": "9b68c9da-1251-4439-8816-ee2d83d592a2",
      "metadata": {
        "id": "9b68c9da-1251-4439-8816-ee2d83d592a2"
      },
      "outputs": [],
      "source": []
    }
  ],
  "metadata": {
    "kernelspec": {
      "display_name": "Python 3 (ipykernel)",
      "language": "python",
      "name": "python3"
    },
    "language_info": {
      "codemirror_mode": {
        "name": "ipython",
        "version": 3
      },
      "file_extension": ".py",
      "mimetype": "text/x-python",
      "name": "python",
      "nbconvert_exporter": "python",
      "pygments_lexer": "ipython3",
      "version": "3.12.3"
    },
    "colab": {
      "provenance": [],
      "include_colab_link": true
    }
  },
  "nbformat": 4,
  "nbformat_minor": 5
}